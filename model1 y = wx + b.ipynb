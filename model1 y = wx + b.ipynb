{
 "cells": [
  {
   "cell_type": "markdown",
   "metadata": {},
   "source": [
    "# Linear Regression From Scratch"
   ]
  },
  {
   "cell_type": "markdown",
   "metadata": {},
   "source": [
    "#### load Dependencies"
   ]
  },
  {
   "cell_type": "code",
   "execution_count": 32,
   "metadata": {},
   "outputs": [],
   "source": [
    "import matplotlib.pyplot as plt\n",
    "import math"
   ]
  },
  {
   "cell_type": "markdown",
   "metadata": {},
   "source": [
    "#### load Dataset"
   ]
  },
  {
   "cell_type": "code",
   "execution_count": 33,
   "metadata": {},
   "outputs": [],
   "source": [
    "X = [12.3,14.3,14.5,14.8,16.1,16.8,16.5,15.3,17.0,17.8,18.7,20.2,22.3,19.3,15.5,16.7,17.2,18.3,19.2,17.3,19.5,19.7,21.2,23.04,23.8,24.6,25.2,25.7,25.9,26.3]\n",
    "y = [11.8,12.7,13.0,11.8,14.3,15.3,13.5,13.8,14.0,14.9,15.7,18.8,20.1,15.0,14.5,14.9,14.8,16.4,17.0,14.8,15.6,16.4,19.0,19.8,20.0,20.3,21.9,22.1,22.4,22.6]"
   ]
  },
  {
   "cell_type": "code",
   "execution_count": 34,
   "metadata": {},
   "outputs": [
    {
     "name": "stdout",
     "output_type": "stream",
     "text": [
      "30\n"
     ]
    }
   ],
   "source": [
    "print(len(X))"
   ]
  },
  {
   "cell_type": "markdown",
   "metadata": {},
   "source": [
    "#### Split dataset into trainset and testset"
   ]
  },
  {
   "cell_type": "code",
   "execution_count": 35,
   "metadata": {},
   "outputs": [],
   "source": [
    "X_train = X[0: 20]\n",
    "y_train = y[0: 20]\n",
    "n_train = len(X_train)\n",
    "\n",
    "X_test = X[20:]\n",
    "y_test = y[20:]\n",
    "n_test = len(X_test)"
   ]
  },
  {
   "cell_type": "markdown",
   "metadata": {},
   "source": [
    "#### Fit model y = w*x + b"
   ]
  },
  {
   "cell_type": "code",
   "execution_count": 36,
   "metadata": {},
   "outputs": [],
   "source": [
    "#parameters\n",
    "w = -0.1\n",
    "b = 3\n",
    "\n",
    "#hype-parameters\n",
    "lr = 0.00001"
   ]
  },
  {
   "cell_type": "code",
   "execution_count": 37,
   "metadata": {},
   "outputs": [],
   "source": [
    "#我们这里举得例子呢比较简单，X数据就只有一个特征：y = wx + b\n",
    "#这就是个模板呀\n",
    "# sum_w = 0.0\n",
    "# sum_b = 0.0\n",
    "# for i in rangeg(n_train):\n",
    "#     y_hat = w * X_train[i] + b\n",
    "#     sum_w += (y_train[i] - y_hat) * (-X_train[i])\n",
    "#     sum_b += (y_train[i] - y_hat) * (-1)\n",
    "\n",
    "# det_w = 2 * sum_w\n",
    "# det_b = 2 * sum_b\n",
    "\n",
    "# w = w - lr * det_w\n",
    "# b = b - lr * det_b"
   ]
  },
  {
   "cell_type": "code",
   "execution_count": 38,
   "metadata": {},
   "outputs": [],
   "source": [
    "#给外部套一个for，让参数更新。\n",
    "epoches = 100 #epoches是把最后的w更新了100遍。epoches=100相当于参数（w,b）向最优点走了100步\n",
    "for i in range(epoches):\n",
    "    sum_w = 0.0\n",
    "    sum_b = 0.0\n",
    "    for i in range(n_train):\n",
    "        y_hat = w * X_train[i] + b\n",
    "        sum_w += (y_train[i] - y_hat) * (-X_train[i])\n",
    "        sum_b += (y_train[i] - y_hat) * (-1)\n",
    "\n",
    "    det_w = 2 * sum_w\n",
    "    det_b = 2 * sum_b\n",
    "\n",
    "    w = w - lr * det_w\n",
    "    b = b - lr * det_b\n",
    "    "
   ]
  },
  {
   "cell_type": "code",
   "execution_count": 44,
   "metadata": {},
   "outputs": [
    {
     "name": "stdout",
     "output_type": "stream",
     "text": [
      "0.6969007054898321 3.0444465379864143\n"
     ]
    }
   ],
   "source": [
    "print(w,b)"
   ]
  },
  {
   "cell_type": "code",
   "execution_count": 39,
   "metadata": {},
   "outputs": [
    {
     "data": {
      "image/png": "[encoded data removed]",
      "text/plain": [
       "<Figure size 432x288 with 1 Axes>"
      ]
     },
     "metadata": {},
     "output_type": "display_data"
    }
   ],
   "source": [
    "#画训练集中的数据点\n",
    "fig, ax = plt.subplots()\n",
    "ax.scatter(X_train,y_train)\n",
    "ax.plot([i for i in range(10, 27)],[w*i + b for i in range(10, 27)])\n",
    "plt.title('y = w*x + b')\n",
    "plt.legend(('Model','Data Points'),loc = 'upper left')\n",
    "plt.show()"
   ]
  },
  {
   "cell_type": "code",
   "execution_count": 40,
   "metadata": {},
   "outputs": [],
   "source": [
    "total_train_loss = 0\n",
    "for i in range(n_train):\n",
    "    y_hat = w * X_train[i] + b\n",
    "    total_train_loss += (y_train[i] - y_hat) ** 2"
   ]
  },
  {
   "cell_type": "code",
   "execution_count": 41,
   "metadata": {},
   "outputs": [],
   "source": [
    "total_test_loss = 0\n",
    "for i in range(n_test):\n",
    "    y_hat = w * X_test[i] + b\n",
    "    total_test_loss += (y_test[i] - y_hat) ** 2"
   ]
  },
  {
   "cell_type": "code",
   "execution_count": 42,
   "metadata": {},
   "outputs": [
    {
     "name": "stdout",
     "output_type": "stream",
     "text": [
      "13.874507163806632\n"
     ]
    }
   ],
   "source": [
    "print(total_train_loss)"
   ]
  },
  {
   "cell_type": "code",
   "execution_count": 43,
   "metadata": {},
   "outputs": [
    {
     "name": "stdout",
     "output_type": "stream",
     "text": [
      "9.43731729986228\n"
     ]
    }
   ],
   "source": [
    "print(total_test_loss)"
   ]
  },
  {
   "cell_type": "code",
   "execution_count": null,
   "metadata": {},
   "outputs": [],
   "source": []
  }
 ],
 "metadata": {
  "kernelspec": {
   "display_name": "Python 3",
   "language": "python",
   "name": "python3"
  },
  "language_info": {
   "codemirror_mode": {
    "name": "ipython",
    "version": 3
   },
   "file_extension": ".py",
   "mimetype": "text/x-python",
   "name": "python",
   "nbconvert_exporter": "python",
   "pygments_lexer": "ipython3",
   "version": "3.6.5"
  }
 },
 "nbformat": 4,
 "nbformat_minor": 2
}
