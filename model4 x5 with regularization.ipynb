{
 "cells": [
  {
   "cell_type": "markdown",
   "metadata": {},
   "source": [
    "#### Load Depedency"
   ]
  },
  {
   "cell_type": "code",
   "execution_count": 3,
   "metadata": {},
   "outputs": [],
   "source": [
    "import math\n",
    "import matplotlib.pyplot as plt"
   ]
  },
  {
   "cell_type": "markdown",
   "metadata": {},
   "source": [
    "#### Load Dataset"
   ]
  },
  {
   "cell_type": "code",
   "execution_count": 4,
   "metadata": {},
   "outputs": [],
   "source": [
    "X = [12.3,14.3,14.5,14.8,16.1,16.8,16.5,15.3,17.0,17.8,18.7,20.2,22.3,19.3,15.5,16.7,17.2,18.3,19.2,17.3,19.5,19.7,21.2,23.04,23.8,24.6,25.2,25.7,25.9,26.3]\n",
    "y = [11.8,12.7,13.0,11.8,14.3,15.3,13.5,13.8,14.0,14.9,15.7,18.8,20.1,15.0,14.5,14.9,14.8,16.4,17.0,14.8,15.6,16.4,19.0,19.8,20.0,20.3,21.9,22.1,22.4,22.6]"
   ]
  },
  {
   "cell_type": "code",
   "execution_count": 5,
   "metadata": {},
   "outputs": [
    {
     "data": {
      "image/png": "[encoded data removed]",
      "text/plain": [
       "<Figure size 432x288 with 1 Axes>"
      ]
     },
     "metadata": {},
     "output_type": "display_data"
    }
   ],
   "source": [
    "plt.scatter(X, y)\n",
    "plt.title('Dataset Samples')\n",
    "plt.xlabel('X')\n",
    "plt.ylabel('y')\n",
    "plt.show()"
   ]
  },
  {
   "cell_type": "markdown",
   "metadata": {},
   "source": [
    "#### Split dataset into trainset and testset"
   ]
  },
  {
   "cell_type": "code",
   "execution_count": 6,
   "metadata": {},
   "outputs": [],
   "source": [
    "X_train = X[0:20]\n",
    "y_train = y[0:20]\n",
    "n_train = len(X_train)\n",
    "\n",
    "X_test = X[20:]\n",
    "y_test = y[20:]\n",
    "n_test = len(X_test)"
   ]
  },
  {
   "cell_type": "markdown",
   "metadata": {},
   "source": [
    "#### Fit model: y = wx + b"
   ]
  },
  {
   "cell_type": "code",
   "execution_count": 7,
   "metadata": {},
   "outputs": [],
   "source": [
    "epoches = 10000000\n",
    "# model parameters\n",
    "w1 = -0.1\n",
    "w2 = 0.1\n",
    "w3 = -0.1\n",
    "w4 = 0.1\n",
    "w5 = 0.1\n",
    "b = 0.3\n",
    "\n",
    "# initialize as 0.0 (not parameter!)\n",
    "lr_w1 = 0.0\n",
    "lr_w2 = 0.0\n",
    "lr_w3 = 0.0\n",
    "lr_w4 = 0.0\n",
    "lr_w5 = 0.0\n",
    "lr_b = 0.0\n",
    "\n",
    "# Hyperparameter\n",
    "reg = 100000"
   ]
  },
  {
   "cell_type": "code",
   "execution_count": 8,
   "metadata": {},
   "outputs": [],
   "source": [
    "for epoch in range(epoches):\n",
    "    sum_w1 = 0.0\n",
    "    sum_w2 = 0.0\n",
    "    sum_w3 = 0.0\n",
    "    sum_w4 = 0.0\n",
    "    sum_w5 = 0.0\n",
    "    \n",
    "    sum_b = 0.0\n",
    "    \n",
    "    for i in range(n_train):\n",
    "        y_hat = w1 * X_train[i] + w2 * (X_train[i] ** 2) + w3 * (X_train[i] ** 3) + w4 * (X_train[i] ** 4) + w5 * (X_train[i] ** 5) + b\n",
    "        sum_w1 = sum_w1 - (y_train[i] - y_hat) * (X_train[i] ** 1)\n",
    "        sum_w2 = sum_w2 - (y_train[i] - y_hat) * (X_train[i] ** 2)\n",
    "        sum_w3 = sum_w3 - (y_train[i] - y_hat) * (X_train[i] ** 3)\n",
    "        sum_w4 = sum_w4 - (y_train[i] - y_hat) * (X_train[i] ** 4)\n",
    "        sum_w5 = sum_w5 - (y_train[i] - y_hat) * (X_train[i] ** 5)\n",
    "        sum_b = sum_b - (y_train[i] - y_hat)\n",
    "    \n",
    "    '''\n",
    "    # Using Gradient Descent to update parameters(w, b)\n",
    "    det_w1 = 2.0 * sum_w1\n",
    "    det_w2 = 2.0 * sum_w2\n",
    "    det_w3 = 2.0 * sum_w3\n",
    "    det_w4 = 2.0 * sum_w4\n",
    "    det_w5 = 2.0 * sum_w5\n",
    "    det_b = 2.0 * sum_b\n",
    "    \n",
    "    w1 = w1 - lr * det_w1\n",
    "    w2 = w2 - lr * det_w2\n",
    "    w3 = w3 - lr * det_w3\n",
    "    w4 = w4 - lr * det_w4\n",
    "    w4 = w5 - lr * det_w5\n",
    "    b = b - lr * det_b\n",
    "    '''\n",
    "    \n",
    "    \n",
    "    # Adam --- epoches = 10\n",
    "    det_w1 = 2.0 * sum_w1 + 2 * reg * w1\n",
    "    det_w2 = 2.0 * sum_w2 + 2 * reg * w2\n",
    "    det_w3 = 2.0 * sum_w3 + 2 * reg * w3\n",
    "    det_w4 = 2.0 * sum_w4 + 2 * reg * w4\n",
    "    det_w5 = 2.0 * sum_w5 + 2 * reg * w5\n",
    "    det_b = 2.0 * sum_b\n",
    "\n",
    "    lr_w1 = lr_w1 + det_w1 ** 2\n",
    "    lr_w2 = lr_w2 + det_w2 ** 2\n",
    "    lr_w3 = lr_w3 + det_w3 ** 2\n",
    "    lr_w4 = lr_w4 + det_w4 ** 2\n",
    "    lr_w5 = lr_w5 + det_w5 ** 2\n",
    "    \n",
    "    lr_b = lr_b + det_b ** 2\n",
    "    \n",
    "    w1 = w1 - (1 / math.sqrt(lr_w1) * det_w1)\n",
    "    w2 = w2 - (1 / math.sqrt(lr_w2) * det_w2)\n",
    "    w3 = w3 - (1 / math.sqrt(lr_w3) * det_w3)\n",
    "    w4 = w4 - (1 / math.sqrt(lr_w4) * det_w4)\n",
    "    w5 = w5 - (1 / math.sqrt(lr_w5) * det_w5)\n",
    "    b = b - (1 / math.sqrt(lr_b) * det_b)\n",
    "    "
   ]
  },
  {
   "cell_type": "code",
   "execution_count": 11,
   "metadata": {},
   "outputs": [
    {
     "data": {
      "image/png": "[encoded data removed]",
      "text/plain": [
       "<Figure size 432x288 with 1 Axes>"
      ]
     },
     "metadata": {},
     "output_type": "display_data"
    }
   ],
   "source": [
    "fig, ax = plt.subplots()\n",
    "ax.plot([i for i in range(28)], [w1*i+ w2*(i**2)+ w3*(i**3)+ w4*(i**4)+w5*(i**5) + b for i in range(28)])\n",
    "ax.scatter(X_train, y_train)\n",
    "plt.title('y = w1*x + w2*x^2 + w3*x^3 + w4*x^4 + w5*x^5 (with regularization)')\n",
    "plt.legend(('Model','Data Points'), loc='upper left')\n",
    "plt.show()"
   ]
  },
  {
   "cell_type": "code",
   "execution_count": 12,
   "metadata": {},
   "outputs": [],
   "source": [
    "total_loss_train = 0\n",
    "for i in range(n_train):\n",
    "    y_hat = y_hat = w1 * X_train[i] + w2 * (X_train[i] ** 2) + w3 * (X_train[i] ** 3) + w4 * (X_train[i] ** 4) + w5 * (X_train[i] ** 5) + b\n",
    "    total_loss_train += (y_hat - y_train[i]) ** 2\n",
    "\n",
    "total_loss_test = 0\n",
    "for i in range(n_test):\n",
    "    y_hat = y_hat = w1 * X_test[i] + w2 * (X_test[i] ** 2) + w3 * (X_test[i] ** 3) + w4 * (X_test[i] ** 4) + w5 * (X_test[i] ** 5) + b\n",
    "    total_loss_test += (y_hat - y_test[i]) ** 2"
   ]
  },
  {
   "cell_type": "code",
   "execution_count": 13,
   "metadata": {},
   "outputs": [
    {
     "data": {
      "text/plain": [
       "16.091014778613104"
      ]
     },
     "execution_count": 13,
     "metadata": {},
     "output_type": "execute_result"
    }
   ],
   "source": [
    "total_loss_train"
   ]
  },
  {
   "cell_type": "code",
   "execution_count": 14,
   "metadata": {},
   "outputs": [
    {
     "data": {
      "text/plain": [
       "20.90130647125067"
      ]
     },
     "execution_count": 14,
     "metadata": {},
     "output_type": "execute_result"
    }
   ],
   "source": [
    "total_loss_test"
   ]
  },
  {
   "cell_type": "code",
   "execution_count": null,
   "metadata": {},
   "outputs": [],
   "source": []
  }
 ],
 "metadata": {
  "kernelspec": {
   "display_name": "Python 3",
   "language": "python",
   "name": "python3"
  },
  "language_info": {
   "codemirror_mode": {
    "name": "ipython",
    "version": 3
   },
   "file_extension": ".py",
   "mimetype": "text/x-python",
   "name": "python",
   "nbconvert_exporter": "python",
   "pygments_lexer": "ipython3",
   "version": "3.6.5"
  }
 },
 "nbformat": 4,
 "nbformat_minor": 2
}
